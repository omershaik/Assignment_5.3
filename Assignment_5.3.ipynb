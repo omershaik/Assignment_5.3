{
 "cells": [
  {
   "cell_type": "markdown",
   "metadata": {},
   "source": [
    "### Calculate F Test for given 10, 20, 30, 40, 50 and 5,10,15, 20, 25.\n",
    "\n",
    "### For 10, 20, 30, 40, 50:"
   ]
  },
  {
   "cell_type": "markdown",
   "metadata": {},
   "source": [
    "##### Calculating variance First set(10,20,30,40,50)\n",
    "\n",
    "Total Inputs (N)=5 \n",
    "\n",
    "Mean (m)= (10+20+30+40+50)/5\n",
    "\n",
    "m = 150/5\n",
    "\n",
    "m = 30 \n",
    "\n",
    "##### Calculating Standard Deviation (SD)\n",
    "\n",
    "SD = sqrt(1/(5-1) {square(10-30) + square(20-30) + square(30-30) + square(40-30) + square(50-30)}\n",
    "\n",
    "= sqrt(1/4){(400)+(100)+(0)+(100)+(400)}\n",
    "\n",
    "SD = sqrt(250)\n",
    "\n",
    "SD = 15.8114 \n",
    "\n",
    "Variance = square(SD)\n",
    "\n",
    "Variance = 250\n",
    "\n",
    "##### Calculating the Variance of second set - (5,10,15,20,25)\n",
    " \n",
    "N =5 \n",
    "\n",
    "Mean (m)= (5+10+15+20+25)/5\n",
    "\n",
    "m = 75/5\n",
    "\n",
    "m = 15\n",
    "\n",
    "##### Calculating Standard Deviation (SD)\n",
    "\n",
    "SD = sqrt(1/(5-1)) {square(5-15) + square(10-15) + square(15-15) + square(20-15) + square(25-15)}\n",
    "\n",
    "= sqrt(1/4) (100 + 25 + 0 + 25 + 100)\n",
    "\n",
    "= sqrt(62.5)\n",
    "\n",
    "SD = 7.9057\n",
    "\n",
    "Variance = square(SD)\n",
    " \n",
    "Variance = 62.5\n",
    "\n",
    "##### To calculate F Test \n",
    "\n",
    "F Test = (variance of 10, 20,30,40,50) / (variance of 5, 10, 15, 20, 25)\n",
    "\n",
    "= 250/62.5\n",
    "\n",
    "= 4\n",
    "\n",
    "The F Test value is 4\n",
    "\n",
    "\n"
   ]
  },
  {
   "cell_type": "code",
   "execution_count": null,
   "metadata": {},
   "outputs": [],
   "source": []
  },
  {
   "cell_type": "code",
   "execution_count": null,
   "metadata": {},
   "outputs": [],
   "source": []
  },
  {
   "cell_type": "code",
   "execution_count": null,
   "metadata": {},
   "outputs": [],
   "source": []
  }
 ],
 "metadata": {
  "kernelspec": {
   "display_name": "Python 3",
   "language": "python",
   "name": "python3"
  },
  "language_info": {
   "codemirror_mode": {
    "name": "ipython",
    "version": 3
   },
   "file_extension": ".py",
   "mimetype": "text/x-python",
   "name": "python",
   "nbconvert_exporter": "python",
   "pygments_lexer": "ipython3",
   "version": "3.6.4"
  }
 },
 "nbformat": 4,
 "nbformat_minor": 2
}
